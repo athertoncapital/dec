{
 "metadata": {
  "kernelspec": {
   "display_name": "Python 3",
   "language": "python",
   "name": "python3"
  },
  "language_info": {
   "codemirror_mode": {
    "name": "ipython",
    "version": 3
   },
   "file_extension": ".py",
   "mimetype": "text/x-python",
   "name": "python",
   "nbconvert_exporter": "python",
   "pygments_lexer": "ipython3",
   "version": "3.4.3"
  },
  "name": ""
 },
 "nbformat": 3,
 "nbformat_minor": 0,
 "worksheets": [
  {
   "cells": [
    {
     "cell_type": "heading",
     "level": 2,
     "metadata": {
      "collapsed": true
     },
     "source": [
      "Hodge"
     ]
    },
    {
     "cell_type": "code",
     "collapsed": true,
     "input": [
      "from dec.chebyshev import H0d_cheb, H0_cheb, H1_cheb, H1d_cheb\n",
      "from dec.helper import to_matrix\n",
      "import dec.spectral as sp\n",
      "import numpy as np"
     ],
     "language": "python",
     "metadata": {},
     "outputs": [],
     "prompt_number": 1
    },
    {
     "cell_type": "code",
     "collapsed": true,
     "input": [
      "def H0_cheb(f):\n",
      "    '''\n",
      "    >>> sp.to_matrix(H0_cheb, 2)\n",
      "    array([[ 0.75,  0.25],\n",
      "           [ 0.25,  0.75]])\n",
      "    '''\n",
      "    f = sp.mirror0(f, +1)\n",
      "    N = f.shape[0]; h = 2*np.pi/N\n",
      "    f = sp.F(f)\n",
      "    f = sp.fourier_K(f, 0, h/2)\n",
      "    f = sp.Finv(f)\n",
      "    f = sp.fold0(f, -1)\n",
      "    return np.real(f)"
     ],
     "language": "python",
     "metadata": {},
     "outputs": [],
     "prompt_number": 2
    },
    {
     "cell_type": "code",
     "collapsed": false,
     "input": [
      "to_matrix(H0_cheb, 3)"
     ],
     "language": "python",
     "metadata": {},
     "outputs": [
      {
       "output_type": "pyout",
       "prompt_number": 3,
       "text": [
        "array([[ 0.2327411 ,  0.07741102, -0.0172589 ],\n",
        "       [ 0.11785113,  1.1785113 ,  0.11785113],\n",
        "       [-0.0172589 ,  0.07741102,  0.2327411 ]])"
       ]
      }
     ],
     "prompt_number": 3
    },
    {
     "cell_type": "code",
     "collapsed": true,
     "input": [
      "def H0_cheb_new(f):\n",
      "    f = sp.mirror0(f, +1)\n",
      "    N = f.shape[0]; h = 2*np.pi/N\n",
      "    f = sp.F(f)\n",
      "    f = sp.fourier_K(f, -h/2, h/2)\n",
      "    f = sp.Finv(f)\n",
      "    f = sp.unmirror0(f)\n",
      "    return np.real(f)"
     ],
     "language": "python",
     "metadata": {},
     "outputs": [],
     "prompt_number": 4
    },
    {
     "cell_type": "code",
     "collapsed": false,
     "input": [
      "to_matrix(H0_cheb_new, 3)"
     ],
     "language": "python",
     "metadata": {},
     "outputs": [
      {
       "output_type": "pyout",
       "prompt_number": 5,
       "text": [
        "array([[ 0.        ,  0.        ,  0.        ],\n",
        "       [ 0.11785113,  1.1785113 ,  0.11785113],\n",
        "       [ 0.        ,  0.        ,  0.        ]])"
       ]
      }
     ],
     "prompt_number": 5
    },
    {
     "cell_type": "code",
     "collapsed": false,
     "input": [
      "N = 500\n",
      "x = np.random.rand(N)\n",
      "M = to_matrix(H0d_cheb, N)\n",
      "\n",
      "%timeit to_matrix(H0d_cheb, N)\n",
      "\n",
      "%timeit M.dot(x)\n",
      "%timeit H0d_cheb(x)\n",
      "\n",
      "%timeit H1_cheb(x)\n",
      "%timeit H0_cheb(x)\n",
      "%timeit H1d_cheb(x)"
     ],
     "language": "python",
     "metadata": {},
     "outputs": [
      {
       "output_type": "stream",
       "stream": "stdout",
       "text": [
        "10 loops, best of 3: 162 ms per loop\n",
        "1000 loops, best of 3: 213 \u00b5s per loop"
       ]
      },
      {
       "output_type": "stream",
       "stream": "stdout",
       "text": [
        "\n",
        "1000 loops, best of 3: 312 \u00b5s per loop"
       ]
      },
      {
       "output_type": "stream",
       "stream": "stdout",
       "text": [
        "\n",
        "1000 loops, best of 3: 427 \u00b5s per loop"
       ]
      },
      {
       "output_type": "stream",
       "stream": "stdout",
       "text": [
        "\n",
        "1000 loops, best of 3: 1.14 ms per loop"
       ]
      },
      {
       "output_type": "stream",
       "stream": "stdout",
       "text": [
        "\n",
        "100 loops, best of 3: 7.62 ms per loop"
       ]
      },
      {
       "output_type": "stream",
       "stream": "stdout",
       "text": [
        "\n"
       ]
      }
     ],
     "prompt_number": 6
    },
    {
     "cell_type": "code",
     "collapsed": false,
     "input": [
      "import numpy as np\n",
      "import timeit\n",
      "import matplotlib.pyplot as plt\n",
      "%matplotlib inline\n",
      "\n",
      "np.random.seed(1)\n",
      "\n",
      "N = np.arange(100, 7000, 50)\n",
      "T = []\n",
      "for n in N:\n",
      "    R = np.random.rand(n)\n",
      "    t = timeit.Timer(lambda: np.fft.fft(R))\n",
      "    T.append(min(t.repeat(20, 1)))\n",
      "plt.xscale('log')\n",
      "plt.yscale('log')\n",
      "plt.plot(N, T, '-o')\n",
      "plt.show()"
     ],
     "language": "python",
     "metadata": {},
     "outputs": [
      {
       "output_type": "display_data",
       "png": "[encoded data removed]",
       "text": [
        "<matplotlib.figure.Figure at 0x7fd311296438>"
       ]
      }
     ],
     "prompt_number": 7
    }
   ],
   "metadata": {}
  }
 ]
}
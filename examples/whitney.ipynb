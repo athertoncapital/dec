{
 "cells": [
  {
   "cell_type": "markdown",
   "metadata": {},
   "source": [
    "## Whitney Bases"
   ]
  },
  {
   "cell_type": "code",
   "execution_count": 1,
   "metadata": {
    "collapsed": false
   },
   "outputs": [],
   "source": [
    "from sympy import *\n",
    "from sympy.abc import x"
   ]
  },
  {
   "cell_type": "code",
   "execution_count": 2,
   "metadata": {
    "collapsed": true
   },
   "outputs": [],
   "source": [
    "p = Piecewise((0, x<=-1), (x+1, x<0), (-x+1, x<=1), (0, True))"
   ]
  },
  {
   "cell_type": "code",
   "execution_count": 3,
   "metadata": {
    "collapsed": false
   },
   "outputs": [
    {
     "data": {
      "text/plain": [
       "(0, 0, 0.5, 1, 0.5, 0)"
      ]
     },
     "execution_count": 3,
     "metadata": {},
     "output_type": "execute_result"
    }
   ],
   "source": [
    "l = lambdify((x,), p)\n",
    "(l(-2), l(-1), l(-1/2), l(0), l(1/2), l(1))"
   ]
  },
  {
   "cell_type": "code",
   "execution_count": 4,
   "metadata": {
    "collapsed": false
   },
   "outputs": [],
   "source": [
    "def F(x):\n",
    "    if -1<x<=0:\n",
    "        return x+1\n",
    "    if 0<x<1:\n",
    "        return -x+1\n",
    "    return 0"
   ]
  },
  {
   "cell_type": "code",
   "execution_count": 5,
   "metadata": {
    "collapsed": true
   },
   "outputs": [],
   "source": [
    "import matplotlib.pyplot as plt\n",
    "%matplotlib inline\n",
    "import numpy as np"
   ]
  },
  {
   "cell_type": "code",
   "execution_count": 6,
   "metadata": {
    "collapsed": false
   },
   "outputs": [],
   "source": [
    "xx = np.linspace(-1.5, 1.5, 1000)\n",
    "def L(xx):\n",
    "    return np.array([l(x_) for x_ in xx])"
   ]
  },
  {
   "cell_type": "code",
   "execution_count": 7,
   "metadata": {
    "collapsed": false
   },
   "outputs": [
    {
     "data": {
      "text/plain": [
       "[<matplotlib.lines.Line2D at 0x7ff2a2d12f60>]"
      ]
     },
     "execution_count": 7,
     "metadata": {},
     "output_type": "execute_result"
    },
    {
     "data": {
      "image/png": "[encoded data removed]",
      "text/plain": [
       "<matplotlib.figure.Figure at 0x7ff2a2d29ba8>"
      ]
     },
     "metadata": {},
     "output_type": "display_data"
    }
   ],
   "source": [
    "plt.plot(xx, L(xx))"
   ]
  },
  {
   "cell_type": "code",
   "execution_count": 8,
   "metadata": {
    "collapsed": false
   },
   "outputs": [
    {
     "data": {
      "text/plain": [
       "(3/4, 3/8, 1/8)"
      ]
     },
     "execution_count": 8,
     "metadata": {},
     "output_type": "execute_result"
    }
   ],
   "source": [
    "a, b, c = (\n",
    "    integrate(p, (x, -Rational(1,2), Rational(1, 2))),\n",
    "    integrate(p, (x, 0, Rational(1, 2))),\n",
    "    integrate(p, (x, Rational(1,2), Rational(3, 2))),\n",
    ")\n",
    "a, b, c"
   ]
  },
  {
   "cell_type": "code",
   "execution_count": 9,
   "metadata": {
    "collapsed": false
   },
   "outputs": [
    {
     "data": {
      "text/plain": [
       "array([[3/8, 1/8, 0, 0, 0],\n",
       "       [1/8, 3/4, 1/8, 0, 0],\n",
       "       [0, 1/8, 3/4, 1/8, 0],\n",
       "       [0, 0, 1/8, 3/4, 1/8],\n",
       "       [0, 0, 0, 1/8, 3/8]], dtype=object)"
      ]
     },
     "execution_count": 9,
     "metadata": {},
     "output_type": "execute_result"
    }
   ],
   "source": [
    "H = np.array([\n",
    "        [b, c, 0, 0, 0],\n",
    "        [c, a, c, 0, 0],\n",
    "        [0, c, a, c, 0],\n",
    "        [0, 0, c, a, c],\n",
    "        [0, 0, 0, c, b],\n",
    "    ])\n",
    "H"
   ]
  },
  {
   "cell_type": "code",
   "execution_count": 10,
   "metadata": {
    "collapsed": false
   },
   "outputs": [
    {
     "data": {
      "text/plain": [
       "array([[ 2.82843137, -0.48529412,  0.08333333, -0.01470588,  0.00490196],\n",
       "       [-0.48529412,  1.45588235, -0.25      ,  0.04411765, -0.01470588],\n",
       "       [ 0.08333333, -0.25      ,  1.41666667, -0.25      ,  0.08333333],\n",
       "       [-0.01470588,  0.04411765, -0.25      ,  1.45588235, -0.48529412],\n",
       "       [ 0.00490196, -0.01470588,  0.08333333, -0.48529412,  2.82843137]])"
      ]
     },
     "execution_count": 10,
     "metadata": {},
     "output_type": "execute_result"
    }
   ],
   "source": [
    "Hinv = np.linalg.inv(H.T)\n",
    "Hinv"
   ]
  },
  {
   "cell_type": "code",
   "execution_count": 11,
   "metadata": {
    "collapsed": false
   },
   "outputs": [
    {
     "data": {
      "text/plain": [
       "array([ 2.82843137, -0.48529412,  0.08333333, -0.01470588,  0.00490196])"
      ]
     },
     "execution_count": 11,
     "metadata": {},
     "output_type": "execute_result"
    }
   ],
   "source": [
    "h = Hinv[0,:]\n",
    "h"
   ]
  },
  {
   "cell_type": "code",
   "execution_count": 12,
   "metadata": {
    "collapsed": false,
    "scrolled": true
   },
   "outputs": [
    {
     "data": {
      "text/plain": [
       "[<matplotlib.lines.Line2D at 0x7ff2903f2c50>,\n",
       " <matplotlib.lines.Line2D at 0x7ff2903f2f98>,\n",
       " <matplotlib.lines.Line2D at 0x7ff2903f77b8>,\n",
       " <matplotlib.lines.Line2D at 0x7ff2903f7f60>,\n",
       " <matplotlib.lines.Line2D at 0x7ff2903ff748>]"
      ]
     },
     "execution_count": 12,
     "metadata": {},
     "output_type": "execute_result"
    },
    {
     "data": {
      "image/png": "[encoded data removed]",
      "text/plain": [
       "<matplotlib.figure.Figure at 0x7ff2a2c26c18>"
      ]
     },
     "metadata": {},
     "output_type": "display_data"
    },
    {
     "data": {
      "image/png": "[encoded data removed]",
      "text/plain": [
       "<matplotlib.figure.Figure at 0x7ff2a2c2d390>"
      ]
     },
     "metadata": {},
     "output_type": "display_data"
    }
   ],
   "source": [
    "def R(h, j):\n",
    "    return lambda x: sum(L(x-i)*Hinv[i, j] for i in range(len(h)))\n",
    "\n",
    "xx = np.linspace(0, len(h)-1, 1000)\n",
    "\n",
    "plt.figure()\n",
    "plt.plot(xx, L(xx-0), \n",
    "         xx, L(xx-1), \n",
    "         xx, L(xx-2),\n",
    "         xx, L(xx-3),\n",
    "         xx, L(xx-4),\n",
    "        )\n",
    "\n",
    "plt.figure()\n",
    "plt.plot(xx, R(h, 0)(xx), \n",
    "         xx, R(h, 1)(xx), \n",
    "         xx, R(h, 2)(xx),\n",
    "         xx, R(h, 3)(xx),\n",
    "         xx, R(h, 4)(xx),\n",
    "        )"
   ]
  },
  {
   "cell_type": "code",
   "execution_count": null,
   "metadata": {
    "collapsed": true
   },
   "outputs": [],
   "source": []
  }
 ],
 "metadata": {
  "kernelspec": {
   "display_name": "Python 3",
   "language": "python",
   "name": "python3"
  },
  "language_info": {
   "codemirror_mode": {
    "name": "ipython",
    "version": 3
   },
   "file_extension": ".py",
   "mimetype": "text/x-python",
   "name": "python",
   "nbconvert_exporter": "python",
   "pygments_lexer": "ipython3",
   "version": "3.4.3"
  }
 },
 "nbformat": 4,
 "nbformat_minor": 0
}

{
 "metadata": {
  "kernelspec": {
   "display_name": "Python 3",
   "language": "python",
   "name": "python3"
  },
  "language_info": {
   "codemirror_mode": {
    "name": "ipython",
    "version": 3
   },
   "file_extension": ".py",
   "mimetype": "text/x-python",
   "name": "python",
   "nbconvert_exporter": "python",
   "pygments_lexer": "ipython3",
   "version": "3.4.3"
  },
  "name": ""
 },
 "nbformat": 3,
 "nbformat_minor": 0,
 "worksheets": [
  {
   "cells": [
    {
     "cell_type": "heading",
     "level": 2,
     "metadata": {},
     "source": [
      "Schur"
     ]
    },
    {
     "cell_type": "code",
     "collapsed": false,
     "input": [
      "import numpy as np\n",
      "from dec.schur import schur, schur\u03bb, bmat, rand\n",
      "from dec.spectral import I_diag"
     ],
     "language": "python",
     "metadata": {},
     "outputs": [],
     "prompt_number": 1
    },
    {
     "cell_type": "code",
     "collapsed": false,
     "input": [
      "n, m = 5, 2\n",
      "B = np.arange(n*m).reshape((n,m))\n",
      "C = np.arange(n*m).reshape((m,n))\n",
      "D = np.arange(m*m).reshape((m,m))\n",
      "print(B)\n",
      "print(C)\n",
      "print(D)\n",
      "print(B.dot(np.eye(B.shape[-1], B.shape[-1])))\n",
      "print(C.dot(np.eye(C.shape[-1], C.shape[-1])))"
     ],
     "language": "python",
     "metadata": {},
     "outputs": [
      {
       "output_type": "stream",
       "stream": "stdout",
       "text": [
        "[[0 1]\n",
        " [2 3]\n",
        " [4 5]\n",
        " [6 7]\n",
        " [8 9]]\n",
        "[[0 1 2 3 4]\n",
        " [5 6 7 8 9]]\n",
        "[[0 1]\n",
        " [2 3]]\n",
        "[[ 0.  1.]\n",
        " [ 2.  3.]\n",
        " [ 4.  5.]\n",
        " [ 6.  7.]\n",
        " [ 8.  9.]]\n",
        "[[ 0.  1.  2.  3.  4.]\n",
        " [ 5.  6.  7.  8.  9.]]\n"
       ]
      }
     ],
     "prompt_number": 2
    },
    {
     "cell_type": "code",
     "collapsed": false,
     "input": [
      "def fourier_sin(N, a, b):\n",
      "    r'''\n",
      "    Corresponds to :math:`f(x) \\mapsto \\int_{x+a}^{x+b} f(\\xi) \\sin(\\xi) d\\xi`\n",
      "    '''\n",
      "    I = I_diag(N+2, a, b) / 2j\n",
      "    \n",
      "    def K(x):\n",
      "        assert x.shape == (N,)\n",
      "        x = np.array(x, dtype=np.complex)\n",
      "        \n",
      "        x = np.hstack([[0], x, [0]])\n",
      "        x = (np.roll(x,+1) - np.roll(x,-1))\n",
      "        x *= I\n",
      "        rslt = x[1:-1]\n",
      "\n",
      "        rslt[ 0] += x[-1]\n",
      "        rslt[-1] += x[0]\n",
      "        return rslt\n",
      "    \n",
      "    def Kinv(x):\n",
      "        # Make sure type is coerced to complex, otherwise numpy ignores the complex parts\n",
      "        # and reverts to reals.\n",
      "        assert x.shape == (N,)\n",
      "        x = np.array(x.copy(), dtype=np.complex)\n",
      "        x /= I[1:-1]\n",
      "\n",
      "        if (np.isclose(I[0], I[N]) or \n",
      "            np.isclose(I[1], I[N+1]) or \n",
      "            np.isclose(I[0]*I[1], I[N]*I[N+1])):\n",
      "            raise ValueError(\"Singular operator.\")\n",
      "\n",
      "        y = np.zeros(N, dtype=np.complex)\n",
      "        # The computations below are essentially Schur's complement?\n",
      "        E = np.sum(x[::2]); O = np.sum(x[1::2])\n",
      "        if N % 2 == 0:\n",
      "            y[0]  = O/(1-I[0]/I[N])\n",
      "            y[-1] = E/(I[N+1]/I[1]-1)\n",
      "        else:\n",
      "            y[0]  = (I[1]/I[N+1]*E+O)/(1-I[1]*I[0]/I[N]/I[N+1])\n",
      "            y[-1] = (I[N]/I[0]*E+O)/(I[N]*I[N+1]/I[0]/I[1]-1)\n",
      "        \n",
      "        x[0]  -= y[-1]*I[N+1]/I[1]\n",
      "        x[-1] -= -y[0]*I[0]/I[N]\n",
      "\n",
      "        # This should be the crux of the inverse\n",
      "        x = np.hstack([[-y[0]], x , [y[-1]]])\n",
      "        y[::2] = -np.cumsum(x[::2])[:-1]\n",
      "        y[1::2] = np.cumsum(x[1::2][::-1])[:-1][::-1]\n",
      "\n",
      "        return y\n",
      "    \n",
      "    return K, Kinv"
     ],
     "language": "python",
     "metadata": {},
     "outputs": [],
     "prompt_number": 3
    },
    {
     "cell_type": "code",
     "collapsed": false,
     "input": [
      "N = 4\n",
      "K, Kinv = fourier_sin(N, 0, 0.1)\n",
      "x = np.ones(N)\n",
      "y = K(x)\n",
      "assert np.allclose(x, Kinv(y))"
     ],
     "language": "python",
     "metadata": {},
     "outputs": [],
     "prompt_number": 4
    },
    {
     "cell_type": "code",
     "collapsed": false,
     "input": [
      "import dec.spectral as sp\n",
      "from dec.helper import to_matrix\n",
      "\n",
      "def A_bidiagonal(x):\n",
      "    f = np.hstack([ [-x[1]], x[:-2]-x[2:], [x[-2]] ])\n",
      "    return f\n",
      "\n",
      "to_matrix(A_bidiagonal, 6)\n",
      "#print(np.linalg.inv(to_matrix(Aa, 6)))"
     ],
     "language": "python",
     "metadata": {},
     "outputs": [
      {
       "output_type": "pyout",
       "prompt_number": 5,
       "text": [
        "array([[-0., -1., -0., -0., -0., -0.],\n",
        "       [ 1.,  0., -1.,  0.,  0.,  0.],\n",
        "       [ 0.,  1.,  0., -1.,  0.,  0.],\n",
        "       [ 0.,  0.,  1.,  0., -1.,  0.],\n",
        "       [ 0.,  0.,  0.,  1.,  0., -1.],\n",
        "       [ 0.,  0.,  0.,  0.,  1.,  0.]])"
       ]
      }
     ],
     "prompt_number": 5
    },
    {
     "cell_type": "code",
     "collapsed": false,
     "input": [
      "def fourier_sin_schur_old(N, a, b):\n",
      "        \n",
      "    I = sp.I_diag(N+2, a, b) / 2j\n",
      "    zeros = lambda n: np.zeros(n, dtype=np.complex)\n",
      "\n",
      "    n = N - 2\n",
      "    m = 2\n",
      "\n",
      "    def A(x): \n",
      "        return A_bidiagonal(x)*I[2:-2]\n",
      "\n",
      "    def Ainv(f):\n",
      "        raise NotImplemented\n",
      "\n",
      "    def B(\u03bb):\n",
      "        f = zeros(n)\n",
      "        f[0]  =  I[ 2]*\u03bb[0]\n",
      "        f[-1] = -I[-3]*\u03bb[1]\n",
      "        return f\n",
      "\n",
      "    def C(x):\n",
      "        g  = zeros(m)\n",
      "        g[0] = -I[ 1]*x[ 0]\n",
      "        g[1] =  I[-2]*x[-1]\n",
      "        return g\n",
      "\n",
      "    def D(\u03bb):\n",
      "        g = zeros(m)\n",
      "        g[0] =  I[-1]*\u03bb[1]\n",
      "        g[1] = -I[ 0]*\u03bb[0]\n",
      "        return g\n",
      "    \n",
      "    def K(x):\n",
      "        assert len(x) == N\n",
      "        x = np.array(x, dtype=np.complex)\n",
      "        \n",
      "        x, \u03bb = x[1:-1], x[[0, -1]]\n",
      "        f = A(x) + B(\u03bb)\n",
      "        g = C(x) + D(\u03bb)\n",
      "        \n",
      "        return np.hstack([ [g[0]], f, [g[1]] ])\n",
      "    \n",
      "    Minv = None\n",
      "    \n",
      "    def Kinv(f):\n",
      "        raise NotImplemented\n",
      "\n",
      "    return K, Kinv\n",
      "\n",
      "for N in range(4, 9):\n",
      "    K_, Kinv_ = fourier_sin(N, 0, 1)\n",
      "    K, Kinv = fourier_sin_schur_old(N, 0, 1)\n",
      "    x = np.random.rand(N)\n",
      "    assert np.allclose(K(x), K_(x))"
     ],
     "language": "python",
     "metadata": {},
     "outputs": [],
     "prompt_number": 6
    },
    {
     "cell_type": "code",
     "collapsed": false,
     "input": [
      "def A_lower_triangular(x):\n",
      "    if len(x)<3: return x\n",
      "    return np.hstack([ [x[0], x[1]], x[2:]-x[:-2] ])\n",
      "\n",
      "to_matrix(A_lower_triangular, 5)"
     ],
     "language": "python",
     "metadata": {},
     "outputs": [
      {
       "output_type": "pyout",
       "prompt_number": 7,
       "text": [
        "array([[ 1.,  0.,  0.,  0.,  0.],\n",
        "       [ 0.,  1.,  0.,  0.,  0.],\n",
        "       [-1.,  0.,  1.,  0.,  0.],\n",
        "       [ 0., -1.,  0.,  1.,  0.],\n",
        "       [ 0.,  0., -1.,  0.,  1.]])"
       ]
      }
     ],
     "prompt_number": 7
    },
    {
     "cell_type": "code",
     "collapsed": false,
     "input": [
      "np.linalg.inv( to_matrix(A_lower_triangular, 5) )"
     ],
     "language": "python",
     "metadata": {},
     "outputs": [
      {
       "output_type": "pyout",
       "prompt_number": 8,
       "text": [
        "array([[ 1.,  0.,  0.,  0.,  0.],\n",
        "       [ 0.,  1.,  0.,  0.,  0.],\n",
        "       [ 1.,  0.,  1.,  0.,  0.],\n",
        "       [ 0.,  1.,  0.,  1.,  0.],\n",
        "       [ 1.,  0.,  1.,  0.,  1.]])"
       ]
      }
     ],
     "prompt_number": 8
    },
    {
     "cell_type": "code",
     "collapsed": false,
     "input": [
      "def A_lower_triangular_inv(x):\n",
      "    if len(x)<3: return x\n",
      "    y = np.zeros_like(x)\n",
      "    y[::2]  = np.cumsum(x[::2])\n",
      "    y[1::2] = np.cumsum(x[1::2])\n",
      "    return y\n",
      "to_matrix(A_lower_triangular_inv, 5)"
     ],
     "language": "python",
     "metadata": {},
     "outputs": [
      {
       "output_type": "pyout",
       "prompt_number": 9,
       "text": [
        "array([[ 1.,  0.,  0.,  0.,  0.],\n",
        "       [ 0.,  1.,  0.,  0.,  0.],\n",
        "       [ 1.,  0.,  1.,  0.,  0.],\n",
        "       [ 0.,  1.,  0.,  1.,  0.],\n",
        "       [ 1.,  0.,  1.,  0.,  1.]])"
       ]
      }
     ],
     "prompt_number": 9
    },
    {
     "cell_type": "code",
     "collapsed": false,
     "input": [
      "for n in range(4, 10):\n",
      "    x = np.random.rand(n)\n",
      "    assert np.allclose(x, A_lower_triangular(A_lower_triangular_inv(x)))\n",
      "    assert np.allclose(x, A_lower_triangular_inv(A_lower_triangular(x)))"
     ],
     "language": "python",
     "metadata": {},
     "outputs": [],
     "prompt_number": 10
    },
    {
     "cell_type": "code",
     "collapsed": false,
     "input": [
      "def fourier_sin_schur(N, a, b):\n",
      "\n",
      "    I = sp.I_diag(N+2, a, b) / 2j\n",
      "    zeros = lambda n: np.zeros(n, dtype=np.complex)\n",
      "\n",
      "    n = N - 2\n",
      "    m = 2\n",
      "\n",
      "    def A(x): \n",
      "        return A_lower_triangular(-x)*I[2:-2]\n",
      "\n",
      "    def Ainv(f): \n",
      "        return A_lower_triangular_inv(-f/I[2:-2])\n",
      "\n",
      "    def B(\u03bb):\n",
      "        f = zeros(n)\n",
      "        f[0] = I[2]*\u03bb[0]\n",
      "        f[1] = I[3]*\u03bb[1]\n",
      "        return f\n",
      "\n",
      "    def C(x):\n",
      "        g  = zeros(m)\n",
      "        g[0] = I[-1]*x[-1]\n",
      "        g[1] = I[-2]*x[-2]\n",
      "        return g\n",
      "\n",
      "    def D(\u03bb):\n",
      "        g = zeros(m)\n",
      "        g[0] = -I[1]*\u03bb[1]\n",
      "        g[1] = -I[0]*\u03bb[0]\n",
      "        return g\n",
      "    \n",
      "    def K(x):\n",
      "        assert len(x) == N\n",
      "        x = np.array(x, dtype=np.complex)\n",
      "        \n",
      "        x, \u03bb = x[2:], x[:2]\n",
      "        f = A(x) + B(\u03bb)\n",
      "        g = C(x) + D(\u03bb)\n",
      "        \n",
      "        return np.hstack([ [g[0]], f, [g[1]] ])\n",
      "    \n",
      "    Minv = schur\u03bb(Ainv, B, C, D, n, m)\n",
      "    \n",
      "    def Kinv(f):\n",
      "        assert len(f) == N\n",
      "        f, g = f[1:-1], f[[0,-1]]\n",
      "        x, \u03bb = Minv(f, g)\n",
      "        return np.hstack([\u03bb, x])\n",
      "\n",
      "    return K, Kinv\n",
      "\n",
      "for N in range(4, 9):\n",
      "    K_, Kinv_ = fourier_sin(N, 0, 1)\n",
      "    K, Kinv = fourier_sin_schur(N, 0, 1)\n",
      "    x = np.random.rand(N)\n",
      "    assert np.allclose(K(x), K_(x))\n",
      "    assert np.allclose(Kinv(x), Kinv_(x))"
     ],
     "language": "python",
     "metadata": {},
     "outputs": [],
     "prompt_number": 11
    },
    {
     "cell_type": "code",
     "collapsed": false,
     "input": [
      "def fourier_sin_schur_simple(N, a, b):\n",
      "\n",
      "    I = sp.I_diag(N+2, a, b) / 2j\n",
      "    zeros = lambda n: np.zeros(n, dtype=np.complex)\n",
      "\n",
      "    n = N - 2\n",
      "    m = 2\n",
      "    K, _ = fourier_sin(N, a, b)\n",
      "\n",
      "    zn = lambda: zeros(n)\n",
      "    zm = lambda: zeros(m)\n",
      "\n",
      "    def Kb(x=zn(), \u03bb=zm()):\n",
      "        y = K(np.hstack([\u03bb, x]))\n",
      "        f, g = y[1:-1], y[[0, -1]]\n",
      "        return f, g\n",
      "        \n",
      "    def Ainv(f): \n",
      "        return A_lower_triangular_inv(-f/I[2:-2])\n",
      "\n",
      "    def A(x): return Kb(x=x)[0]\n",
      "    \n",
      "    def B(\u03bb): return Kb(\u03bb=\u03bb)[0]\n",
      "\n",
      "    def C(x): return Kb(x=x)[1]\n",
      "\n",
      "    def D(\u03bb): return Kb(\u03bb=\u03bb)[1]\n",
      "    \n",
      "    Minv = schur\u03bb(Ainv, B, C, D, n, m)\n",
      "    \n",
      "    def Kinv(f):\n",
      "        assert len(f) == N\n",
      "        f, g = f[1:-1], f[[0,-1]]\n",
      "        x, \u03bb = Minv(f, g)\n",
      "        return np.hstack([\u03bb, x])\n",
      "\n",
      "    return K, Kinv\n",
      "\n",
      "for N in range(4, 9):\n",
      "    K_, Kinv_ = fourier_sin(N, 0, 1)\n",
      "    K, Kinv = fourier_sin_schur_simple(N, 0, 1)\n",
      "    x = np.random.rand(N)\n",
      "    assert np.allclose(K(x), K_(x))\n",
      "    assert np.allclose(Kinv(x), Kinv_(x))"
     ],
     "language": "python",
     "metadata": {},
     "outputs": [],
     "prompt_number": 12
    },
    {
     "cell_type": "code",
     "collapsed": false,
     "input": [
      "def I_diag_sy(N, a, b):\n",
      "    from sympy import symbols\n",
      "    l = symbols(['I{}'.format(i) for i in range(N)])\n",
      "    return np.array(l)\n",
      "\n",
      "#def I_diag_sy(N, a, b):\n",
      "#    from sympy import I, exp, Integer, symbols\n",
      "#    l = []\n",
      "#    for n in map(int, sp.freq(N)):\n",
      "#         if n == 0:\n",
      "#             l.append(b-a)\n",
      "#         else:\n",
      "#             n = Integer(n)\n",
      "#             l.append( (exp(I*n*b) - exp(I*n*a))/(I*n) )/2/I\n",
      "#    return np.array(l)\n",
      "\n",
      "def fourier_sin_schur_sym(a, b):\n",
      "    from sympy import I, exp, Integer\n",
      "        \n",
      "    def K(x):\n",
      "        N = x.shape[0]\n",
      "        x = np.hstack([[0], x, [0]])\n",
      "\n",
      "        x = (np.roll(x,+1) - np.roll(x,-1))\n",
      "        x *= I_diag_sy(N+2, a, b)\n",
      "        rslt = x[1:-1]\n",
      "\n",
      "        rslt[ 0] += x[-1]\n",
      "        rslt[-1] += x[0]\n",
      "        return rslt\n",
      "\n",
      "    return K, None\n",
      "\n",
      "import sympy as sy\n",
      "a, b = sy.symbols('a b')\n",
      "K, Kinv = fourier_sin_schur_sym(a, b)"
     ],
     "language": "python",
     "metadata": {},
     "outputs": [],
     "prompt_number": 13
    },
    {
     "cell_type": "code",
     "collapsed": false,
     "input": [
      "X = np.array(sy.symbols('\u03bb0 x0 x1 x2 x3 x4 x5 x6 x7 x8 \u03bb1'))\n",
      "K(X)"
     ],
     "language": "python",
     "metadata": {},
     "outputs": [
      {
       "output_type": "pyout",
       "prompt_number": 14,
       "text": [
        "array([-I1*x0 + I12*\u03bb1, I2*(-x1 + \u03bb0), I3*(x0 - x2), I4*(x1 - x3),\n",
        "       I5*(x2 - x4), I6*(x3 - x5), I7*(x4 - x6), I8*(x5 - x7),\n",
        "       I9*(x6 - x8), I10*(x7 - \u03bb1), -I0*\u03bb0 + I11*x8], dtype=object)"
       ]
      }
     ],
     "prompt_number": 14
    },
    {
     "cell_type": "code",
     "collapsed": false,
     "input": [
      "# This is better because we have a lower triangular matrix.\n",
      "X = np.array(sy.symbols('\u03bb0 \u03bb1 x0 x1 x2 x3 x4 x5 x6 x7 x8'))\n",
      "K(X)"
     ],
     "language": "python",
     "metadata": {},
     "outputs": [
      {
       "output_type": "pyout",
       "prompt_number": 15,
       "text": [
        "array([-I1*\u03bb1 + I12*x8, I2*(-x0 + \u03bb0), I3*(-x1 + \u03bb1), I4*(x0 - x2),\n",
        "       I5*(x1 - x3), I6*(x2 - x4), I7*(x3 - x5), I8*(x4 - x6),\n",
        "       I9*(x5 - x7), I10*(x6 - x8), -I0*\u03bb0 + I11*x7], dtype=object)"
       ]
      }
     ],
     "prompt_number": 15
    },
    {
     "cell_type": "code",
     "collapsed": false,
     "input": [
      "X = np.array(sy.symbols('\u03bb0 \u03bb1'))\n",
      "K(X)"
     ],
     "language": "python",
     "metadata": {},
     "outputs": [
      {
       "output_type": "pyout",
       "prompt_number": 16,
       "text": [
        "array([-I1*\u03bb1 + I3*\u03bb1, -I0*\u03bb0 + I2*\u03bb0], dtype=object)"
       ]
      }
     ],
     "prompt_number": 16
    },
    {
     "cell_type": "code",
     "collapsed": false,
     "input": [
      "X = np.array(sy.symbols('\u03bb0 \u03bb1 x0'))\n",
      "K(X)"
     ],
     "language": "python",
     "metadata": {},
     "outputs": [
      {
       "output_type": "pyout",
       "prompt_number": 17,
       "text": [
        "array([-I1*\u03bb1 + I4*x0, I2*(-x0 + \u03bb0), -I0*\u03bb0 + I3*\u03bb1], dtype=object)"
       ]
      }
     ],
     "prompt_number": 17
    },
    {
     "cell_type": "code",
     "collapsed": false,
     "input": [
      "A_lower_triangular(I_diag_sy(5, a, b))"
     ],
     "language": "python",
     "metadata": {},
     "outputs": [
      {
       "output_type": "pyout",
       "prompt_number": 18,
       "text": [
        "array([I0, I1, -I0 + I2, -I1 + I3, -I2 + I4], dtype=object)"
       ]
      }
     ],
     "prompt_number": 18
    },
    {
     "cell_type": "code",
     "collapsed": false,
     "input": [
      "N = 1000\n",
      "K, Kinv = fourier_sin(N, 0, 0.1)\n",
      "K_, Kinv_ = fourier_sin_schur(N, 0, 0.1)\n",
      "K__, Kinv__ = fourier_sin_schur_simple(N, 0, 0.1)\n",
      "\n",
      "np.random.seed(1)\n",
      "x = np.random.rand(N)\n",
      "assert np.allclose(K_(x), K(x))\n",
      "assert np.allclose(K__(x), K(x))\n",
      "assert np.allclose(Kinv_(x), Kinv(x))\n",
      "assert np.allclose(Kinv__(x), Kinv(x))\n",
      "%timeit K(x)\n",
      "%timeit Kinv(x)\n",
      "%timeit K_(x)\n",
      "%timeit Kinv_(x)\n",
      "%timeit K__(x)\n",
      "%timeit Kinv__(x)"
     ],
     "language": "python",
     "metadata": {},
     "outputs": [
      {
       "output_type": "stream",
       "stream": "stdout",
       "text": [
        "10000 loops, best of 3: 29.9 \u00b5s per loop\n",
        "10000 loops, best of 3: 118 \u00b5s per loop"
       ]
      },
      {
       "output_type": "stream",
       "stream": "stdout",
       "text": [
        "\n",
        "10000 loops, best of 3: 37.9 \u00b5s per loop"
       ]
      },
      {
       "output_type": "stream",
       "stream": "stdout",
       "text": [
        "\n",
        "10000 loops, best of 3: 66.7 \u00b5s per loop"
       ]
      },
      {
       "output_type": "stream",
       "stream": "stdout",
       "text": [
        "\n",
        "10000 loops, best of 3: 29.9 \u00b5s per loop"
       ]
      },
      {
       "output_type": "stream",
       "stream": "stdout",
       "text": [
        "\n",
        "10000 loops, best of 3: 143 \u00b5s per loop"
       ]
      },
      {
       "output_type": "stream",
       "stream": "stdout",
       "text": [
        "\n"
       ]
      }
     ],
     "prompt_number": 19
    },
    {
     "cell_type": "code",
     "collapsed": true,
     "input": [],
     "language": "python",
     "metadata": {},
     "outputs": [],
     "prompt_number": 20
    }
   ],
   "metadata": {}
  }
 ]
}
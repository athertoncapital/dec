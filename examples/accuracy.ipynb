{
 "metadata": {
  "kernelspec": {
   "display_name": "Python 3",
   "language": "python",
   "name": "python3"
  },
  "language_info": {
   "codemirror_mode": {
    "name": "ipython",
    "version": 3
   },
   "file_extension": ".py",
   "mimetype": "text/x-python",
   "name": "python",
   "nbconvert_exporter": "python",
   "pygments_lexer": "ipython3",
   "version": "3.4.3"
  },
  "name": ""
 },
 "nbformat": 3,
 "nbformat_minor": 0,
 "worksheets": [
  {
   "cells": [
    {
     "cell_type": "heading",
     "level": 2,
     "metadata": {
      "collapsed": true
     },
     "source": [
      "Accuracy"
     ]
    },
    {
     "cell_type": "code",
     "collapsed": false,
     "input": [
      "import numpy as np\n",
      "from dec.grid1 import Grid_1D\n",
      "from dec.symbolic import *"
     ],
     "language": "python",
     "metadata": {},
     "outputs": [],
     "prompt_number": 1
    },
    {
     "cell_type": "code",
     "collapsed": false,
     "input": [
      "g = Grid_1D.periodic(7)\n",
      "c = Chart(x, )\n",
      "f = form(0, c, (sin(x),))"
     ],
     "language": "python",
     "metadata": {},
     "outputs": [],
     "prompt_number": 2
    },
    {
     "cell_type": "code",
     "collapsed": false,
     "input": [
      "fd = f.P(g, True)\n",
      "(f.lambdify(g.points).dtype,\n",
      " g.refine.T[f.degree, fd.isprimal](fd.array).dtype)"
     ],
     "language": "python",
     "metadata": {},
     "outputs": [
      {
       "output_type": "pyout",
       "prompt_number": 3,
       "text": [
        "(dtype('float64'), dtype('float64'))"
       ]
      }
     ],
     "prompt_number": 3
    },
    {
     "cell_type": "code",
     "collapsed": false,
     "input": [
      "f.lambdify(g.points)- g.refine.T[f.degree, fd.isprimal](fd.array)"
     ],
     "language": "python",
     "metadata": {},
     "outputs": [
      {
       "output_type": "pyout",
       "prompt_number": 4,
       "text": [
        "array([  0.00000000e+00,   1.66533454e-16,   0.00000000e+00,\n",
        "         8.88178420e-16,   0.00000000e+00,   2.22044605e-16,\n",
        "         0.00000000e+00,   1.70849757e-15,   0.00000000e+00,\n",
        "        -4.44089210e-16,   0.00000000e+00,  -6.66133815e-16,\n",
        "         0.00000000e+00,   5.55111512e-17])"
       ]
      }
     ],
     "prompt_number": 4
    },
    {
     "cell_type": "code",
     "collapsed": false,
     "input": [
      "fd.array - g.refine.U[f.degree, fd.isprimal](f.lambdify(g.points))"
     ],
     "language": "python",
     "metadata": {},
     "outputs": [
      {
       "output_type": "pyout",
       "prompt_number": 5,
       "text": [
        "array([ 0.,  0.,  0.,  0.,  0.,  0.,  0.])"
       ]
      }
     ],
     "prompt_number": 5
    },
    {
     "cell_type": "code",
     "collapsed": true,
     "input": [
      "from dec.spectral import H, Hinv, S, Sinv"
     ],
     "language": "python",
     "metadata": {},
     "outputs": [],
     "prompt_number": 6
    },
    {
     "cell_type": "code",
     "collapsed": false,
     "input": [
      "# The hodge star of ones must be the lengths of the dual edges\n",
      "N= 10; H(np.ones(N))-2*np.pi/N"
     ],
     "language": "python",
     "metadata": {},
     "outputs": [
      {
       "output_type": "pyout",
       "prompt_number": 7,
       "text": [
        "array([ 0.,  0.,  0.,  0.,  0.,  0.,  0.,  0.,  0.,  0.])"
       ]
      }
     ],
     "prompt_number": 7
    },
    {
     "cell_type": "code",
     "collapsed": false,
     "input": [
      "g.verts.dtype"
     ],
     "language": "python",
     "metadata": {},
     "outputs": [
      {
       "output_type": "pyout",
       "prompt_number": 8,
       "text": [
        "dtype('float64')"
       ]
      }
     ],
     "prompt_number": 8
    },
    {
     "cell_type": "code",
     "collapsed": false,
     "input": [
      "g = Grid_1D.periodic(11)\n",
      "f = form(0, c, (cos(3*x),))\n",
      "(f.H.P(g, True) - f.P(g, False).H).array"
     ],
     "language": "python",
     "metadata": {},
     "outputs": [
      {
       "output_type": "pyout",
       "prompt_number": 9,
       "text": [
        "array([  5.55111512e-17,   1.66533454e-16,  -3.88578059e-16,\n",
        "        -1.11022302e-16,  -8.18789481e-16,  -3.33066907e-16,\n",
        "         1.72084569e-15,   1.66533454e-16,   6.10622664e-16,\n",
        "        -4.44089210e-16,  -8.88178420e-16])"
       ]
      }
     ],
     "prompt_number": 9
    },
    {
     "cell_type": "code",
     "collapsed": false,
     "input": [
      "f = form(1, c, (cos(3*x),))\n",
      "(f.H.P(g, True) - f.P(g, False).H).array"
     ],
     "language": "python",
     "metadata": {},
     "outputs": [
      {
       "output_type": "pyout",
       "prompt_number": 10,
       "text": [
        "array([  6.66133815e-16,  -1.66533454e-16,  -2.22044605e-16,\n",
        "        -1.05471187e-15,  -1.66533454e-15,   9.99200722e-16,\n",
        "         1.11022302e-15,  -3.10862447e-15,   1.22124533e-15,\n",
        "        -2.22044605e-16,   8.32667268e-17])"
       ]
      }
     ],
     "prompt_number": 10
    },
    {
     "cell_type": "code",
     "collapsed": false,
     "input": [
      "from theano import tensor as T\n",
      "from theano.ifelse import ifelse\n",
      "import theano, time, numpy\n",
      "\n",
      "epsilon = T.scalar('epsilon')\n",
      "x = T.vectors('x')\n",
      "\n",
      "z_switch = T.switch(T.lt(0, epsilon), x, x)\n",
      "z_lazy = ifelse(T.lt(0, epsilon), x, x)\n",
      "\n",
      "f_switch = theano.function([epsilon, x], z_switch,\n",
      "                    mode=theano.Mode(linker='vm'))\n",
      "f_lazyifelse = theano.function([epsilon, x], z_lazy,\n",
      "                    mode=theano.Mode(linker='vm'))\n",
      "\n",
      "big_mat = numpy.ones(10000)"
     ],
     "language": "python",
     "metadata": {},
     "outputs": [],
     "prompt_number": 11
    },
    {
     "cell_type": "code",
     "collapsed": false,
     "input": [
      "n_times = 10\n",
      "\n",
      "tic = time.clock()\n",
      "for i in range(n_times):\n",
      "    f_switch(0, big_mat)\n",
      "print ('time spent evaluating both values %f sec' % (time.clock() - tic))\n",
      "\n",
      "tic = time.clock()\n",
      "for i in range(n_times):\n",
      "    f_lazyifelse(0, big_mat)\n",
      "print ('time spent evaluating one value %f sec' % (time.clock() - tic))"
     ],
     "language": "python",
     "metadata": {},
     "outputs": [
      {
       "output_type": "stream",
       "stream": "stdout",
       "text": [
        "time spent evaluating both values 0.000518 sec\n",
        "time spent evaluating one value 0.001594 sec\n"
       ]
      }
     ],
     "prompt_number": 12
    }
   ],
   "metadata": {}
  }
 ]
}
{
 "metadata": {
  "kernelspec": {
   "display_name": "Python 3",
   "language": "python",
   "name": "python3"
  },
  "language_info": {
   "codemirror_mode": {
    "name": "ipython",
    "version": 3
   },
   "file_extension": ".py",
   "mimetype": "text/x-python",
   "name": "python",
   "nbconvert_exporter": "python",
   "pygments_lexer": "ipython3",
   "version": "3.4.3"
  },
  "name": ""
 },
 "nbformat": 3,
 "nbformat_minor": 0,
 "worksheets": [
  {
   "cells": [
    {
     "cell_type": "markdown",
     "metadata": {
      "collapsed": true
     },
     "source": [
      "## Contraction\n",
      "\n",
      "$\\mathbf{i}_{\\alpha^{\\sharp}}\\beta=\\star(\\alpha\\wedge\\star\\beta)$"
     ]
    },
    {
     "cell_type": "code",
     "collapsed": false,
     "input": [
      "from dec.symbolic import *"
     ],
     "language": "python",
     "metadata": {},
     "outputs": [],
     "prompt_number": 1
    },
    {
     "cell_type": "markdown",
     "metadata": {},
     "source": [
      "**1D**"
     ]
    },
    {
     "cell_type": "code",
     "collapsed": false,
     "input": [
      "c = Chart(x, )\n",
      "u = Function('u')(x)\n",
      "v = Function('v')(x)"
     ],
     "language": "python",
     "metadata": {},
     "outputs": [],
     "prompt_number": 2
    },
    {
     "cell_type": "code",
     "collapsed": false,
     "input": [
      "\u03b1 = form(1, c, (u,))\n",
      "\u03b2 = form(1, c, (v,))\n",
      "\u03b1.C(\u03b2) == (\u03b1 ^ \u03b2.H).H"
     ],
     "language": "python",
     "metadata": {},
     "outputs": [
      {
       "output_type": "pyout",
       "prompt_number": 3,
       "text": [
        "True"
       ]
      }
     ],
     "prompt_number": 3
    },
    {
     "cell_type": "markdown",
     "metadata": {},
     "source": [
      "**2D**"
     ]
    },
    {
     "cell_type": "code",
     "collapsed": true,
     "input": [
      "c = Chart(x, y)\n",
      "u = Function('u')(x, y)\n",
      "v = Function('v')(x, y)\n",
      "w = Function('w')(x, y)\n",
      "q = Function('q')(x, y)"
     ],
     "language": "python",
     "metadata": {},
     "outputs": [],
     "prompt_number": 4
    },
    {
     "cell_type": "code",
     "collapsed": false,
     "input": [
      "\u03b1 = form(1, c, (u,v))\n",
      "\u03b2 = form(1, c, (w,q))\n",
      "\u03b1.C(\u03b2) == (\u03b1 ^ \u03b2.H).H"
     ],
     "language": "python",
     "metadata": {},
     "outputs": [
      {
       "output_type": "pyout",
       "prompt_number": 5,
       "text": [
        "True"
       ]
      }
     ],
     "prompt_number": 5
    },
    {
     "cell_type": "code",
     "collapsed": false,
     "input": [
      "\u03b1 = form(1, c, (u,v))\n",
      "\u03b2 = form(2, c, (w,))\n",
      "\u03b1.C(\u03b2) == (\u03b1 ^ \u03b2.H).H"
     ],
     "language": "python",
     "metadata": {},
     "outputs": [
      {
       "output_type": "pyout",
       "prompt_number": 6,
       "text": [
        "True"
       ]
      }
     ],
     "prompt_number": 6
    },
    {
     "cell_type": "markdown",
     "metadata": {},
     "source": [
      "**3D**"
     ]
    },
    {
     "cell_type": "code",
     "collapsed": true,
     "input": [
      "# Not implemented yet"
     ],
     "language": "python",
     "metadata": {},
     "outputs": [],
     "prompt_number": 7
    }
   ],
   "metadata": {}
  }
 ]
}
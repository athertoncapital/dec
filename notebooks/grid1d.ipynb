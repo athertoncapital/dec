{
 "cells": [
  {
   "cell_type": "code",
   "execution_count": 5,
   "metadata": {
    "collapsed": false
   },
   "outputs": [],
   "source": [
    "import matplotlib.pyplot as plt\n",
    "from dec.grid1 import *\n",
    "import dec.plot\n",
    "%matplotlib inline"
   ]
  },
  {
   "cell_type": "markdown",
   "metadata": {},
   "source": [
    "# Periodic"
   ]
  },
  {
   "cell_type": "code",
   "execution_count": 6,
   "metadata": {
    "collapsed": false
   },
   "outputs": [
    {
     "data": {
      "image/png": "[encoded data removed]",
      "text/plain": [
       "<matplotlib.figure.Figure at 0x7fbf9636a550>"
      ]
     },
     "metadata": {},
     "output_type": "display_data"
    }
   ],
   "source": [
    "ax = plt.subplot(311)\n",
    "g = Grid_1D.periodic(4)\n",
    "dec.plot.grid_1d(ax, g)\n",
    "\n",
    "ax = plt.subplot(312)\n",
    "g = Grid_1D.periodic(8)\n",
    "dec.plot.grid_1d(ax, g)\n",
    "\n",
    "ax = plt.subplot(313)\n",
    "g = Grid_1D.periodic(16)\n",
    "dec.plot.grid_1d(ax, g)\n",
    "\n",
    "plt.show()"
   ]
  },
  {
   "cell_type": "markdown",
   "metadata": {},
   "source": [
    "# Regular"
   ]
  },
  {
   "cell_type": "code",
   "execution_count": 7,
   "metadata": {
    "collapsed": false
   },
   "outputs": [
    {
     "data": {
      "image/png": "[encoded data removed]",
      "text/plain": [
       "<matplotlib.figure.Figure at 0x7fbf96217048>"
      ]
     },
     "metadata": {},
     "output_type": "display_data"
    }
   ],
   "source": [
    "ax = plt.subplot(311)\n",
    "g = Grid_1D.regular(4)\n",
    "dec.plot.grid_1d(ax, g)\n",
    " \n",
    "ax = plt.subplot(312)\n",
    "g = Grid_1D.regular(8)\n",
    "dec.plot.grid_1d(ax, g)\n",
    " \n",
    "ax = plt.subplot(313)\n",
    "g = Grid_1D.regular(16)\n",
    "dec.plot.grid_1d(ax, g)\n",
    "\n",
    "plt.show()"
   ]
  },
  {
   "cell_type": "markdown",
   "metadata": {},
   "source": [
    "# Chebyshev"
   ]
  },
  {
   "cell_type": "code",
   "execution_count": 8,
   "metadata": {
    "collapsed": false
   },
   "outputs": [
    {
     "data": {
      "image/png": "[encoded data removed]",
      "text/plain": [
       "<matplotlib.figure.Figure at 0x7fbf963c8cf8>"
      ]
     },
     "metadata": {},
     "output_type": "display_data"
    }
   ],
   "source": [
    "ax = plt.subplot(311)\n",
    "g = Grid_1D.chebyshev(4)\n",
    "dec.plot.grid_1d(ax, g)\n",
    " \n",
    "ax = plt.subplot(312)\n",
    "g = Grid_1D.chebyshev(8)\n",
    "dec.plot.grid_1d(ax, g)\n",
    " \n",
    "ax = plt.subplot(313)\n",
    "g = Grid_1D.chebyshev(16)\n",
    "dec.plot.grid_1d(ax, g)\n",
    "\n",
    "plt.show()"
   ]
  },
  {
   "cell_type": "code",
   "execution_count": null,
   "metadata": {
    "collapsed": true
   },
   "outputs": [],
   "source": []
  }
 ],
 "metadata": {
  "kernelspec": {
   "display_name": "Python 3",
   "language": "python",
   "name": "python3"
  },
  "language_info": {
   "codemirror_mode": {
    "name": "ipython",
    "version": 3
   },
   "file_extension": ".py",
   "mimetype": "text/x-python",
   "name": "python",
   "nbconvert_exporter": "python",
   "pygments_lexer": "ipython3",
   "version": "3.4.3"
  }
 },
 "nbformat": 4,
 "nbformat_minor": 0
}

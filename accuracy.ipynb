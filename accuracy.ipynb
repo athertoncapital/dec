{
 "cells": [
  {
   "cell_type": "code",
   "execution_count": 24,
   "metadata": {
    "collapsed": true
   },
   "outputs": [],
   "source": [
    "import numpy as np"
   ]
  },
  {
   "cell_type": "code",
   "execution_count": 25,
   "metadata": {
    "collapsed": false
   },
   "outputs": [],
   "source": [
    "from dec.grid1 import Grid_1D\n",
    "from dec.symbolic import *"
   ]
  },
  {
   "cell_type": "code",
   "execution_count": 26,
   "metadata": {
    "collapsed": false
   },
   "outputs": [],
   "source": [
    "g = Grid_1D.periodic(7)\n",
    "c = Chart(x, )\n",
    "f = form(0, c, (sin(x),))"
   ]
  },
  {
   "cell_type": "code",
   "execution_count": 27,
   "metadata": {
    "collapsed": false
   },
   "outputs": [
    {
     "data": {
      "text/plain": [
       "(dtype('float64'), dtype('float64'))"
      ]
     },
     "execution_count": 27,
     "metadata": {},
     "output_type": "execute_result"
    }
   ],
   "source": [
    "fd = f.P(g, True)\n",
    "(f.lambdify(g.points).dtype,\n",
    " g.refine.T[f.degree, fd.isprimal](fd.array).dtype)"
   ]
  },
  {
   "cell_type": "code",
   "execution_count": 28,
   "metadata": {
    "collapsed": false
   },
   "outputs": [
    {
     "data": {
      "text/plain": [
       "array([  0.00000000e+00,   1.66533454e-16,   0.00000000e+00,\n",
       "         8.88178420e-16,   0.00000000e+00,   2.22044605e-16,\n",
       "         0.00000000e+00,   1.70849757e-15,   0.00000000e+00,\n",
       "        -4.44089210e-16,   0.00000000e+00,  -6.66133815e-16,\n",
       "         0.00000000e+00,   5.55111512e-17])"
      ]
     },
     "execution_count": 28,
     "metadata": {},
     "output_type": "execute_result"
    }
   ],
   "source": [
    "f.lambdify(g.points)- g.refine.T[f.degree, fd.isprimal](fd.array)"
   ]
  },
  {
   "cell_type": "code",
   "execution_count": 29,
   "metadata": {
    "collapsed": false
   },
   "outputs": [
    {
     "data": {
      "text/plain": [
       "array([ 0.,  0.,  0.,  0.,  0.,  0.,  0.])"
      ]
     },
     "execution_count": 29,
     "metadata": {},
     "output_type": "execute_result"
    }
   ],
   "source": [
    "fd.array - g.refine.U[f.degree, fd.isprimal](f.lambdify(g.points))"
   ]
  },
  {
   "cell_type": "code",
   "execution_count": 30,
   "metadata": {
    "collapsed": true
   },
   "outputs": [],
   "source": [
    "from dec.spectral import H, Hinv, S, Sinv"
   ]
  },
  {
   "cell_type": "code",
   "execution_count": 31,
   "metadata": {
    "collapsed": false
   },
   "outputs": [
    {
     "data": {
      "text/plain": [
       "array([ 0.,  0.,  0.,  0.,  0.,  0.,  0.,  0.,  0.,  0.])"
      ]
     },
     "execution_count": 31,
     "metadata": {},
     "output_type": "execute_result"
    }
   ],
   "source": [
    "# The hodge star of ones must be the lengths of the dual edges\n",
    "N= 10; H(np.ones(N))-2*np.pi/N"
   ]
  },
  {
   "cell_type": "code",
   "execution_count": 32,
   "metadata": {
    "collapsed": false
   },
   "outputs": [
    {
     "data": {
      "text/plain": [
       "dtype('float64')"
      ]
     },
     "execution_count": 32,
     "metadata": {},
     "output_type": "execute_result"
    }
   ],
   "source": [
    "g.verts.dtype"
   ]
  },
  {
   "cell_type": "code",
   "execution_count": 33,
   "metadata": {
    "collapsed": false
   },
   "outputs": [
    {
     "data": {
      "text/plain": [
       "array([  5.55111512e-17,   1.66533454e-16,  -3.88578059e-16,\n",
       "        -1.11022302e-16,  -8.18789481e-16,  -3.33066907e-16,\n",
       "         1.72084569e-15,   1.66533454e-16,   6.10622664e-16,\n",
       "        -4.44089210e-16,  -8.88178420e-16])"
      ]
     },
     "execution_count": 33,
     "metadata": {},
     "output_type": "execute_result"
    }
   ],
   "source": [
    "g = Grid_1D.periodic(11)\n",
    "f = form(0, c, (cos(3*x),))\n",
    "(f.H.P(g, True) - f.P(g, False).H).array"
   ]
  },
  {
   "cell_type": "code",
   "execution_count": 34,
   "metadata": {
    "collapsed": false
   },
   "outputs": [
    {
     "data": {
      "text/plain": [
       "array([  6.66133815e-16,  -1.66533454e-16,  -2.22044605e-16,\n",
       "        -1.05471187e-15,  -1.66533454e-15,   9.99200722e-16,\n",
       "         1.11022302e-15,  -3.10862447e-15,   1.22124533e-15,\n",
       "        -2.22044605e-16,   8.32667268e-17])"
      ]
     },
     "execution_count": 34,
     "metadata": {},
     "output_type": "execute_result"
    }
   ],
   "source": [
    "f = form(1, c, (cos(3*x),))\n",
    "(f.H.P(g, True) - f.P(g, False).H).array"
   ]
  },
  {
   "cell_type": "code",
   "execution_count": null,
   "metadata": {
    "collapsed": true
   },
   "outputs": [],
   "source": []
  }
 ],
 "metadata": {
  "kernelspec": {
   "display_name": "Python 3",
   "language": "python",
   "name": "python3"
  },
  "language_info": {
   "codemirror_mode": {
    "name": "ipython",
    "version": 3
   },
   "file_extension": ".py",
   "mimetype": "text/x-python",
   "name": "python",
   "nbconvert_exporter": "python",
   "pygments_lexer": "ipython3",
   "version": "3.4.3"
  }
 },
 "nbformat": 4,
 "nbformat_minor": 0
}

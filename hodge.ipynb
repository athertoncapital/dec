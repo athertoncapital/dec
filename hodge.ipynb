{
 "cells": [
  {
   "cell_type": "code",
   "execution_count": 1,
   "metadata": {
    "collapsed": true
   },
   "outputs": [],
   "source": [
    "from dec.chebyshev import H0d_cheb, H0_cheb, H1_cheb, H1d_cheb\n",
    "from dec.helper import to_matrix\n",
    "import dec.spectral as sp\n",
    "import numpy as np"
   ]
  },
  {
   "cell_type": "code",
   "execution_count": 2,
   "metadata": {
    "collapsed": true
   },
   "outputs": [],
   "source": [
    "def H0_cheb(f):\n",
    "    '''\n",
    "    >>> sp.to_matrix(H0_cheb, 2)\n",
    "    array([[ 0.75,  0.25],\n",
    "           [ 0.25,  0.75]])\n",
    "    '''\n",
    "    f = sp.mirror0(f, +1)\n",
    "    N = f.shape[0]; h = 2*np.pi/N\n",
    "    f = sp.F(f)\n",
    "    f = sp.fourier_K(f, 0, h/2)\n",
    "    f = sp.Finv(f)\n",
    "    f = sp.fold0(f, -1)\n",
    "    return np.real(f)"
   ]
  },
  {
   "cell_type": "code",
   "execution_count": 3,
   "metadata": {
    "collapsed": false
   },
   "outputs": [
    {
     "data": {
      "text/plain": [
       "array([[ 0.2327411 ,  0.07741102, -0.0172589 ],\n",
       "       [ 0.11785113,  1.1785113 ,  0.11785113],\n",
       "       [-0.0172589 ,  0.07741102,  0.2327411 ]])"
      ]
     },
     "execution_count": 3,
     "metadata": {},
     "output_type": "execute_result"
    }
   ],
   "source": [
    "to_matrix(H0_cheb, 3)"
   ]
  },
  {
   "cell_type": "code",
   "execution_count": 4,
   "metadata": {
    "collapsed": true
   },
   "outputs": [],
   "source": [
    "def H0_cheb_new(f):\n",
    "    f = sp.mirror0(f, +1)\n",
    "    N = f.shape[0]; h = 2*np.pi/N\n",
    "    f = sp.F(f)\n",
    "    f = sp.fourier_K(f, -h/2, h/2)\n",
    "    f = sp.Finv(f)\n",
    "    f = sp.unmirror0(f)\n",
    "    return np.real(f)"
   ]
  },
  {
   "cell_type": "code",
   "execution_count": 5,
   "metadata": {
    "collapsed": false
   },
   "outputs": [
    {
     "data": {
      "text/plain": [
       "array([[ 0.        ,  0.        ,  0.        ],\n",
       "       [ 0.11785113,  1.1785113 ,  0.11785113],\n",
       "       [ 0.        ,  0.        ,  0.        ]])"
      ]
     },
     "execution_count": 5,
     "metadata": {},
     "output_type": "execute_result"
    }
   ],
   "source": [
    "to_matrix(H0_cheb_new, 3)"
   ]
  },
  {
   "cell_type": "code",
   "execution_count": 7,
   "metadata": {
    "collapsed": false
   },
   "outputs": [
    {
     "name": "stdout",
     "output_type": "stream",
     "text": [
      "1 loops, best of 3: 390 ms per loop\n",
      "1000 loops, best of 3: 254 µs per loop\n",
      "1000 loops, best of 3: 743 µs per loop\n",
      "1000 loops, best of 3: 999 µs per loop\n",
      "100 loops, best of 3: 2.5 ms per loop\n",
      "100 loops, best of 3: 16.4 ms per loop\n"
     ]
    }
   ],
   "source": [
    "N = 500\n",
    "x = np.random.rand(N)\n",
    "M = to_matrix(H0d_cheb, N)\n",
    "\n",
    "%timeit to_matrix(H0d_cheb, N)\n",
    "\n",
    "%timeit M.dot(x)\n",
    "%timeit H0d_cheb(x)\n",
    "\n",
    "%timeit H1_cheb(x)\n",
    "%timeit H0_cheb(x)\n",
    "%timeit H1d_cheb(x)"
   ]
  },
  {
   "cell_type": "code",
   "execution_count": 8,
   "metadata": {
    "collapsed": false
   },
   "outputs": [
    {
     "data": {
      "image/png": "[encoded data removed]",
      "text/plain": [
       "<matplotlib.figure.Figure at 0x7f2cd329d588>"
      ]
     },
     "metadata": {},
     "output_type": "display_data"
    }
   ],
   "source": [
    "import numpy as np\n",
    "import timeit\n",
    "import matplotlib.pyplot as plt\n",
    "%matplotlib inline\n",
    "\n",
    "np.random.seed(1)\n",
    "\n",
    "N = np.arange(100, 7000, 50)\n",
    "T = []\n",
    "for n in N:\n",
    "    R = np.random.rand(n)\n",
    "    t = timeit.Timer(lambda: np.fft.fft(R))\n",
    "    T.append(min(t.repeat(20, 1)))\n",
    "plt.xscale('log')\n",
    "plt.yscale('log')\n",
    "plt.plot(N, T, '-o')\n",
    "plt.show()"
   ]
  },
  {
   "cell_type": "code",
   "execution_count": null,
   "metadata": {
    "collapsed": true
   },
   "outputs": [],
   "source": []
  }
 ],
 "metadata": {
  "kernelspec": {
   "display_name": "Python 3",
   "language": "python",
   "name": "python3"
  },
  "language_info": {
   "codemirror_mode": {
    "name": "ipython",
    "version": 3
   },
   "file_extension": ".py",
   "mimetype": "text/x-python",
   "name": "python",
   "nbconvert_exporter": "python",
   "pygments_lexer": "ipython3",
   "version": "3.4.3"
  }
 },
 "nbformat": 4,
 "nbformat_minor": 0
}

{
 "cells": [
  {
   "cell_type": "code",
   "execution_count": 11,
   "metadata": {
    "collapsed": false
   },
   "outputs": [],
   "source": [
    "import numpy as np\n",
    "\n",
    "def rand(n, m):\n",
    "    return np.random.random((n, m))\n",
    "\n",
    "def bmat(blocks):\n",
    "    return np.asarray(np.bmat(blocks))\n",
    "\n",
    "def schur(Ainv, B, C, D):\n",
    "    '''\n",
    "    M = [[A, B],\n",
    "         [C, D]]\n",
    "    Minv = schur(Ainv, B, C, D)\n",
    "    '''\n",
    "    n, m = B.shape\n",
    "    assert C.shape == (m, n) and D.shape == (m, m)\n",
    "\n",
    "    # Apply Ainv to columns of B\n",
    "    CAinvB = np.array([C.dot(Ainv(b)) for b in B.T]).T\n",
    "    \n",
    "    # inverse of Schur's Complement\n",
    "    Sinv = np.linalg.inv( CAinvB - D )\n",
    "        \n",
    "    def Minv(f, g):\n",
    "        λ = Sinv.dot(C.dot(Ainv(f)) - g)\n",
    "        x = Ainv(f - B.dot(λ))\n",
    "        return x, λ \n",
    "    \n",
    "    return Minv\n",
    "\n",
    "def schur_lambda(Ainv, B, C, D, n, m):\n",
    "    '''\n",
    "    Ainv, B, C, D, are all lambda expressions\n",
    "    and the dimensions of the problem are (n+m, n+m)\n",
    "    where presumably n>>m.\n",
    "    '''\n",
    "    \n",
    "    # iterate over the columns of B\n",
    "    CAinvB = np.array([C(Ainv(B(i))) for i in np.eye(m)]).T\n",
    "    D = np.array([D(i) for i in np.eye(m)]).T\n",
    "\n",
    "    # inverse of Schur's Complement\n",
    "    Sinv = np.linalg.inv( CAinvB - D )\n",
    "\n",
    "    def Minv(f, g):\n",
    "        λ = Sinv.dot(C(Ainv(f)) - g)\n",
    "        x = Ainv(f - B(λ))\n",
    "        return x, λ \n",
    "    \n",
    "    return Minv\n"
   ]
  },
  {
   "cell_type": "code",
   "execution_count": 12,
   "metadata": {
    "collapsed": false
   },
   "outputs": [],
   "source": [
    "n, m = 5, 2\n",
    "np.random.seed(1)\n",
    "f, g = rand(n, 1), rand(m, 1)\n",
    "A = rand(n, n)\n",
    "B = rand(n, m)\n",
    "C = rand(m, n)\n",
    "D = rand(m, m)\n",
    "Ainv = np.linalg.inv(A)\n",
    "M = bmat([[A, B],[C,D]])\n",
    "Minv = np.linalg.inv(M)\n",
    "λ = lambda A: lambda x: A.dot(x)\n",
    "\n",
    "Mschur = schur(λ(Ainv), B, C, D)\n",
    "assert np.allclose(Minv.dot(np.vstack([f,g])), np.vstack(Mschur(f, g)))\n",
    "\n",
    "Mschur = schur_lambda(λ(Ainv), λ(B), λ(C), λ(D), n, m)\n",
    "assert np.allclose(Minv.dot(np.vstack([f,g])), np.vstack(Mschur(f, g)))\n",
    "\n",
    "#print([λ(Ainv)(b) for b in B.T])\n",
    "#print([λ(Ainv)(λ(B)(i)) for i in np.eye(m)])\n",
    "#print(D)\n",
    "#print(np.array([λ(D)(i) for i in np.eye(m)]).T)"
   ]
  },
  {
   "cell_type": "code",
   "execution_count": 13,
   "metadata": {
    "collapsed": false
   },
   "outputs": [
    {
     "name": "stdout",
     "output_type": "stream",
     "text": [
      "[[0 1]\n",
      " [2 3]\n",
      " [4 5]\n",
      " [6 7]\n",
      " [8 9]]\n",
      "[[0 1 2 3 4]\n",
      " [5 6 7 8 9]]\n",
      "[[0 1]\n",
      " [2 3]]\n",
      "[[ 0.  1.]\n",
      " [ 2.  3.]\n",
      " [ 4.  5.]\n",
      " [ 6.  7.]\n",
      " [ 8.  9.]]\n",
      "[[ 0.  1.  2.  3.  4.]\n",
      " [ 5.  6.  7.  8.  9.]]\n"
     ]
    }
   ],
   "source": [
    "B = np.arange(n*m).reshape((n,m))\n",
    "C = np.arange(n*m).reshape((m, n))\n",
    "D = np.arange(m*m).reshape((m,m))\n",
    "print(B)\n",
    "print(C)\n",
    "print(D)\n",
    "print(B.dot(np.eye(B.shape[-1], B.shape[-1])))\n",
    "print(C.dot(np.eye(C.shape[-1], C.shape[-1])))"
   ]
  },
  {
   "cell_type": "code",
   "execution_count": 14,
   "metadata": {
    "collapsed": false
   },
   "outputs": [],
   "source": [
    "from dec.spectral import I_diag"
   ]
  },
  {
   "cell_type": "code",
   "execution_count": 15,
   "metadata": {
    "collapsed": false
   },
   "outputs": [],
   "source": [
    "def fourier_sin(a, b):\n",
    "    r'''\n",
    "    Corresponds to :math:`f(x) \\mapsto \\int_{x+a}^{x+b} f(\\xi) \\sin(\\xi) d\\xi`\n",
    "    '''\n",
    "\n",
    "    def K(x):\n",
    "        N = x.shape[0]\n",
    "        x = np.array(x, dtype=np.complex)\n",
    "        \n",
    "        x = np.hstack([[0], x, [0]])\n",
    "        x = (np.roll(x,+1) - np.roll(x,-1))\n",
    "        x *= I_diag(N+2, a, b) /2j\n",
    "        rslt = x[1:-1]\n",
    "\n",
    "        rslt[ 0] += x[-1]\n",
    "        rslt[-1] += x[0]\n",
    "        return rslt\n",
    "    \n",
    "    def Kinv(x):\n",
    "        # Make sure type is coerced to complex, otherwise numpy ignores the complex parts\n",
    "        # and reverts to reals.\n",
    "        x = np.array(x.copy(), dtype=np.complex)\n",
    "        N = x.shape[0]\n",
    "        I = I_diag(N+2, a, b)\n",
    "        x /= I[1:-1]\n",
    "\n",
    "        if (np.isclose(I[0], I[N]) or \n",
    "            np.isclose(I[1], I[N+1]) or \n",
    "            np.isclose(I[0]*I[1], I[N]*I[N+1])):\n",
    "            raise ValueError(\"Singular operator.\")\n",
    "\n",
    "        y = np.zeros(N, dtype=np.complex)\n",
    "        # The computations below are essentially Schur's complement?\n",
    "        E = np.sum(x[::2]); O = np.sum(x[1::2])\n",
    "        if N % 2 == 0:\n",
    "            y[0]  = O/(1-I[0]/I[N])\n",
    "            y[-1] = E/(I[N+1]/I[1]-1)\n",
    "        else:\n",
    "            y[0]  = (I[1]/I[N+1]*E+O)/(1-I[1]*I[0]/I[N]/I[N+1])\n",
    "            y[-1] = (I[N]/I[0]*E+O)/(I[N]*I[N+1]/I[0]/I[1]-1)\n",
    "        \n",
    "        x[0]  -= y[-1]*I[N+1]/I[1]\n",
    "        x[-1] -= -y[0]*I[0]/I[N]\n",
    "\n",
    "        # This should be the crux of the inverse\n",
    "        x = np.hstack([[-y[0]], x , [y[-1]]])\n",
    "        y[::2] = -np.cumsum(x[::2])[:-1]\n",
    "        y[1::2] = np.cumsum(x[1::2][::-1])[:-1][::-1]\n",
    "\n",
    "        y *= 2j\n",
    "\n",
    "        return y\n",
    "    \n",
    "    return K, Kinv"
   ]
  },
  {
   "cell_type": "code",
   "execution_count": 16,
   "metadata": {
    "collapsed": false
   },
   "outputs": [],
   "source": [
    "K, Kinv = fourier_sin(0, 0.1)\n",
    "x = np.ones(4)\n",
    "y = K(x)\n",
    "assert np.allclose(x, Kinv(y))"
   ]
  },
  {
   "cell_type": "code",
   "execution_count": 17,
   "metadata": {
    "collapsed": false
   },
   "outputs": [
    {
     "name": "stdout",
     "output_type": "stream",
     "text": [
      "[[-0. -1. -0. -0. -0. -0.]\n",
      " [ 1.  0. -1.  0.  0.  0.]\n",
      " [ 0.  1.  0. -1.  0.  0.]\n",
      " [ 0.  0.  1.  0. -1.  0.]\n",
      " [ 0.  0.  0.  1.  0. -1.]\n",
      " [ 0.  0.  0.  0.  1.  0.]]\n"
     ]
    }
   ],
   "source": [
    "import dec.spectral as sp\n",
    "from dec.helper import to_matrix\n",
    "\n",
    "def Aa(x):\n",
    "    f = np.hstack([ [-x[1]], x[:-2]-x[2:], [x[-2]] ])\n",
    "    return f\n",
    "\n",
    "print(to_matrix(Aa, 6))\n",
    "#print(np.linalg.inv(to_matrix(Aa, 6)))"
   ]
  },
  {
   "cell_type": "code",
   "execution_count": 18,
   "metadata": {
    "collapsed": false
   },
   "outputs": [
    {
     "data": {
      "text/plain": [
       "array([ 0.45969769+0.j])"
      ]
     },
     "execution_count": 18,
     "metadata": {},
     "output_type": "execute_result"
    }
   ],
   "source": [
    "def fourier_sin_schur(a, b):\n",
    "\n",
    "    def get_ABCD(n, m):\n",
    "        \n",
    "        N = n + m\n",
    "        I = sp.I_diag(N+2, a, b) / 2j\n",
    "        zeros = lambda n: np.zeros(n, dtype=np.complex)\n",
    "\n",
    "        def A(x): \n",
    "            f = np.hstack([ [-x[1]], x[:-2]-x[2:], [x[-2]] ])\n",
    "            f *= I[2:-2]\n",
    "            return f\n",
    "        \n",
    "        def B(λ):\n",
    "            f = zeros(n)\n",
    "            f[0]  =  I[ 2]*λ[0]\n",
    "            f[-1] = -I[N-1]*λ[1]\n",
    "            return f\n",
    "\n",
    "        def C(x):\n",
    "            g  = zeros(m)\n",
    "            g[0] = -I[1]*x[ 0]\n",
    "            g[1] =  I[N]*x[-1]\n",
    "            return g\n",
    "        \n",
    "        def D(λ):\n",
    "            g = zeros(m)\n",
    "            g[0] =  I[N+1]*λ[1]\n",
    "            g[1] = -I[  0]*λ[0]\n",
    "            return g\n",
    "        \n",
    "        return A, B, C, D\n",
    "\n",
    "    def K(x):\n",
    "\n",
    "        x = np.array(x, dtype=np.complex)\n",
    "        \n",
    "        x, λ = x[1:-1], x[[0, -1]]\n",
    "        n = len(x)\n",
    "        m = len(λ)\n",
    "\n",
    "        A, B, C, D = get_ABCD(n, m)\n",
    "        f = A(x) + B(λ)\n",
    "        g = C(x) + D(λ)\n",
    "        \n",
    "        return np.hstack([ [g[0]], f, [g[1]] ])\n",
    "    \n",
    "    \n",
    "    def Kinv(f):\n",
    "        Minv = shur_lambda(A, B, C, D, n, m)\n",
    "        return x\n",
    "    \n",
    "    return K, Kinv\n",
    "\n",
    "K_, Kinv_ = fourier_sin(0, 1)\n",
    "K, Kinv = fourier_sin_schur(0, 1)\n",
    "X = np.arange(4)\n",
    "Y = K_(X)\n",
    "assert np.allclose(K(X), Y)\n",
    "K(X).round(3), Y.round(3), Kinv_(Y).round(3)\n",
    "K_(np.array([1,]))"
   ]
  },
  {
   "cell_type": "code",
   "execution_count": 21,
   "metadata": {
    "collapsed": false
   },
   "outputs": [
    {
     "name": "stdout",
     "output_type": "stream",
     "text": [
      "[I0 I1 I2]\n"
     ]
    }
   ],
   "source": [
    "def I_diag_sy(N, a, b):\n",
    "    from sympy import I, exp, Integer, symbols\n",
    "\n",
    "    l = symbols(['I{}'.format(i) for i in range(N)])\n",
    "#    l = []\n",
    "#    for n in map(int, sp.freq(N)):\n",
    "#         if n == 0:\n",
    "#             l.append(b-a)\n",
    "#         else:\n",
    "#             n = Integer(n)\n",
    "#             l.append( (exp(I*n*b) - exp(I*n*a))/(I*n) )/2/I\n",
    "    return np.array(l)\n",
    "\n",
    "def fourier_sin_schur_sym(a, b):\n",
    "    from sympy import I, exp, Integer\n",
    "        \n",
    "    def K(x):\n",
    "        N = x.shape[0]\n",
    "        x = np.hstack([[0], x, [0]])\n",
    "\n",
    "        x = (np.roll(x,+1) - np.roll(x,-1))\n",
    "        x *= I_diag_sy(N+2, a, b)\n",
    "        rslt = x[1:-1]\n",
    "\n",
    "        rslt[ 0] += x[-1]\n",
    "        rslt[-1] += x[0]\n",
    "        return rslt\n",
    "\n",
    "    def Kinv(x):\n",
    "        pass\n",
    "    \n",
    "    return K, Kinv\n",
    "\n",
    "import sympy as sy\n",
    "a, b = sy.symbols('a b')\n",
    "print(I_diag_sy(3, a, b))\n",
    "K, Kinv = fourier_sin_schur_sym(a, b)"
   ]
  },
  {
   "cell_type": "code",
   "execution_count": 24,
   "metadata": {
    "collapsed": false
   },
   "outputs": [
    {
     "data": {
      "text/plain": [
       "array([-I1*x0 + I12*λ1, I2*(-x1 + λ0), I3*(x0 - x2), I4*(x1 - x3),\n",
       "       I5*(x2 - x4), I6*(x3 - x5), I7*(x4 - x6), I8*(x5 - x7),\n",
       "       I9*(x6 - x8), I10*(x7 - λ1), -I0*λ0 + I11*x8], dtype=object)"
      ]
     },
     "execution_count": 24,
     "metadata": {},
     "output_type": "execute_result"
    }
   ],
   "source": [
    "X = np.array(sy.symbols('λ0 x0 x1 x2 x3 x4 x5 x6 x7 x8 λ1'))\n",
    "K(X)"
   ]
  },
  {
   "cell_type": "code",
   "execution_count": 25,
   "metadata": {
    "collapsed": false
   },
   "outputs": [
    {
     "data": {
      "text/plain": [
       "array([-I1*λ1 + I12*x8, I2*(-x0 + λ0), I3*(-x1 + λ1), I4*(x0 - x2),\n",
       "       I5*(x1 - x3), I6*(x2 - x4), I7*(x3 - x5), I8*(x4 - x6),\n",
       "       I9*(x5 - x7), I10*(x6 - x8), -I0*λ0 + I11*x7], dtype=object)"
      ]
     },
     "execution_count": 25,
     "metadata": {},
     "output_type": "execute_result"
    }
   ],
   "source": [
    "# This is better because we have a lower triangular matrix.\n",
    "X = np.array(sy.symbols('λ0 λ1 x0 x1 x2 x3 x4 x5 x6 x7 x8'))\n",
    "K(X)"
   ]
  },
  {
   "cell_type": "code",
   "execution_count": null,
   "metadata": {
    "collapsed": false
   },
   "outputs": [],
   "source": [
    "N = 1000\n",
    "K, Kinv = fourier_sin(0, 0.1)\n",
    "K_, Kinv_ = fourier_sin_schur(0, 0.1)\n",
    "x = K(np.ones(N))\n",
    "%timeit K(np.ones(N))\n",
    "%timeit Kinv(x)\n",
    "%timeit K_(x)"
   ]
  },
  {
   "cell_type": "code",
   "execution_count": null,
   "metadata": {
    "collapsed": true
   },
   "outputs": [],
   "source": []
  }
 ],
 "metadata": {
  "kernelspec": {
   "display_name": "Python 3",
   "language": "python",
   "name": "python3"
  },
  "language_info": {
   "codemirror_mode": {
    "name": "ipython",
    "version": 3
   },
   "file_extension": ".py",
   "mimetype": "text/x-python",
   "name": "python",
   "nbconvert_exporter": "python",
   "pygments_lexer": "ipython3",
   "version": "3.4.3"
  }
 },
 "nbformat": 4,
 "nbformat_minor": 0
}
